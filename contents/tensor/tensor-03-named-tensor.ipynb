{
 "cells": [
  {
   "cell_type": "markdown",
   "id": "d9ddf61c",
   "metadata": {},
   "source": [
    "# Named Tensor\n",
    "\n",
    "Now let's look at **Named Tensors**, which are a PyTorch feature that makes working with complex tensors (like medical images!) less error-prone and easier to read.\n",
    "\n",
    "---\n",
    "\n",
    "## Overview\n",
    "\n",
    "### What is a Named Tensor?\n",
    "\n",
    "Normally, tensors are indexed by **position only**:"
   ]
  },
  {
   "cell_type": "code",
   "execution_count": 1,
   "id": "92ab17f2",
   "metadata": {},
   "outputs": [],
   "source": [
    "import numpy\n",
    "import torch\n",
    "\n",
    "x = torch.randn(32, 1, 512, 512)  # (N, C, H, W)"
   ]
  },
  {
   "cell_type": "markdown",
   "id": "c3416f3b",
   "metadata": {},
   "source": [
    "If you want the **height dimension**, you need to remember it's at index `2`.\n",
    "That's fine for simple 2D images — but with 5D CT/MRI volumes `(N, C, D, H, W)` or time-series, it's very easy to mix things up.\n",
    "\n",
    "**Named Tensors** let you **attach names to dimensions**:"
   ]
  },
  {
   "cell_type": "code",
   "execution_count": 4,
   "id": "75321b34",
   "metadata": {},
   "outputs": [],
   "source": [
    "x = torch.randn(32, 1, 512, 512, names=('batch', 'channel', 'height', 'width'))"
   ]
  },
  {
   "cell_type": "markdown",
   "id": "87c351b0",
   "metadata": {},
   "source": [
    "Now, instead of remembering that height is at position `2`, you can refer to it by name:"
   ]
  },
  {
   "cell_type": "code",
   "execution_count": null,
   "id": "16b33fab",
   "metadata": {},
   "outputs": [
    {
     "name": "stdout",
     "output_type": "stream",
     "text": [
      "('batch', 'channel', 'height', 'width')\n"
     ]
    }
   ],
   "source": [
    "print(x.names)"
   ]
  },
  {
   "cell_type": "markdown",
   "id": "b2f99b7a",
   "metadata": {},
   "source": [
    "### Why is this Useful?\n",
    "\n",
    "1. **Readability**\n",
    "   You don't have to mentally track which index is which."
   ]
  },
  {
   "cell_type": "code",
   "execution_count": 6,
   "id": "ae8bfcdd",
   "metadata": {},
   "outputs": [
    {
     "data": {
      "text/plain": [
       "tensor([[[ 33.5692, -45.9581, -14.5042,  ...,   1.4120,  -5.2512, -11.7449]],\n",
       "\n",
       "        [[ -1.3578,  25.8050,  24.0318,  ...,   4.5506,  28.2631, -60.6962]],\n",
       "\n",
       "        [[ 11.6369,   5.2120,   0.5251,  ...,  13.6742,   8.0234,  16.4690]],\n",
       "\n",
       "        ...,\n",
       "\n",
       "        [[-36.0494,   3.7133,  26.5676,  ...,  21.4684, -26.5332, -14.7450]],\n",
       "\n",
       "        [[ 12.4113,   4.3388,  -2.9167,  ..., -23.2582,   3.0929,  42.1314]],\n",
       "\n",
       "        [[  7.0003, -17.8118,   4.0587,  ...,  -7.0770,  22.7034,   4.0079]]],\n",
       "       names=('batch', 'channel', 'width'))"
      ]
     },
     "execution_count": 6,
     "metadata": {},
     "output_type": "execute_result"
    }
   ],
   "source": [
    "x.sum('height')   # instead of x.sum(dim=2)"
   ]
  },
  {
   "cell_type": "markdown",
   "id": "b19c5cc9",
   "metadata": {},
   "source": [
    "2. **Safety (fewer bugs)**\n",
    "   Operations align dimensions **by name**, not position:"
   ]
  },
  {
   "cell_type": "code",
   "execution_count": 7,
   "id": "284eab16",
   "metadata": {},
   "outputs": [
    {
     "name": "stdout",
     "output_type": "stream",
     "text": [
      "('batch', 'width')\n"
     ]
    }
   ],
   "source": [
    "a = torch.randn(10, 512, names=('batch', 'height'))\n",
    "b = torch.randn(512, 20, names=('height', 'width'))\n",
    "\n",
    "# Multiply across matching names automatically:\n",
    "c = a @ b  # result has names ('batch', 'width')\n",
    "print(c.names)"
   ]
  },
  {
   "cell_type": "markdown",
   "id": "8ad89513",
   "metadata": {},
   "source": [
    "3. **Complex medical tensors**\n",
    "   In medical imaging, you often juggle `(N, C, D, H, W)` volumes. Named tensors prevent mistakes like swapping `D` and `H`.\n",
    "   Example:"
   ]
  },
  {
   "cell_type": "code",
   "execution_count": 8,
   "id": "81e6c654",
   "metadata": {},
   "outputs": [
    {
     "name": "stdout",
     "output_type": "stream",
     "text": [
      "('batch', 'channel', 'height', 'width')\n"
     ]
    }
   ],
   "source": [
    "vol = torch.randn(4, 1, 128, 512, 512, names=('batch','channel','depth','height','width'))\n",
    "proj = vol.mean('depth')  # MIP projection over slices\n",
    "print(proj.names)"
   ]
  },
  {
   "cell_type": "markdown",
   "id": "4c7e19a2",
   "metadata": {},
   "source": [
    "   Without names you'd write `vol.mean(dim=2)`, which is less clear.\n",
    "\n",
    "4. **Self-documenting code**\n",
    "   When someone else (or future-you) reads your code, names tell the story right away.\n",
    "\n"
   ]
  },
  {
   "cell_type": "markdown",
   "id": "ca73873b",
   "metadata": {},
   "source": [
    "### 🔹 Limitation\n",
    "\n",
    "* As of PyTorch 2.x, **Named Tensors are still experimental** and don't support *all* operations.\n",
    "* You may need to `rename(None)` to go back to unnamed mode for some functions.\n",
    "\n"
   ]
  },
  {
   "cell_type": "markdown",
   "id": "37a44c45",
   "metadata": {},
   "source": [
    "\n",
    "## Example: CT Volume Projection with Named Tensor"
   ]
  },
  {
   "cell_type": "code",
   "execution_count": 9,
   "id": "bd84d36a",
   "metadata": {},
   "outputs": [
    {
     "name": "stdout",
     "output_type": "stream",
     "text": [
      "('batch', 'channel', 'height', 'width')\n"
     ]
    }
   ],
   "source": [
    "import torch\n",
    "\n",
    "# 4 patients, 1 channel, 128 slices, 512x512 image\n",
    "vol = torch.randn(4, 1, 128, 512, 512,\n",
    "                  names=('batch','channel','depth','height','width'))\n",
    "\n",
    "# Compute mean projection across depth\n",
    "mip = vol.mean('depth')  # shape: (batch, channel, height, width)\n",
    "print(mip.names)  # ('batch','channel','height','width')"
   ]
  },
  {
   "cell_type": "markdown",
   "id": "0e827a86",
   "metadata": {},
   "source": [
    "Without names, you'd have to remember `.mean(dim=2)` (not `3` or `4`).\n",
    "\n",
    "---\n",
    "\n",
    "# 🔹 Summary\n",
    "\n",
    "* **Named Tensors** = dimensions with labels.\n",
    "* **Helps with**: readability, safety, reducing bugs, making code self-explanatory.\n",
    "* **Especially valuable** in medical imaging, where tensors often have **5+ dimensions** `(N, C, D, H, W)` and mistakes are costly.\n"
   ]
  }
 ],
 "metadata": {
  "kernelspec": {
   "display_name": "dl-env",
   "language": "python",
   "name": "python3"
  },
  "language_info": {
   "codemirror_mode": {
    "name": "ipython",
    "version": 3
   },
   "file_extension": ".py",
   "mimetype": "text/x-python",
   "name": "python",
   "nbconvert_exporter": "python",
   "pygments_lexer": "ipython3",
   "version": "3.12.11"
  }
 },
 "nbformat": 4,
 "nbformat_minor": 5
}
